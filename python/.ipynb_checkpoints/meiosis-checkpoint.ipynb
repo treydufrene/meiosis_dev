{
 "cells": [
  {
   "cell_type": "markdown",
   "metadata": {},
   "source": [
    "### Development Notebook for MEIOSIS Project"
   ]
  },
  {
   "cell_type": "code",
   "execution_count": null,
   "metadata": {},
   "outputs": [],
   "source": [
    "import numpy as np"
   ]
  },
  {
   "cell_type": "code",
   "execution_count": null,
   "metadata": {},
   "outputs": [],
   "source": [
    "class IK:\n",
    "    def __init__(self):\n",
    "        #do stuff\n",
    "        self.nothing = 0    \n",
    "\n",
    "    def findJA(pos, R):\n",
    "        print(pos)\n",
    "        print(R)"
   ]
  },
  {
   "cell_type": "code",
   "execution_count": 43,
   "metadata": {},
   "outputs": [],
   "source": [
    "R = np.array([[1,0,0],[0,1,0],[0,0,1]])\n",
    "x = 20\n",
    "y = 20\n",
    "z = 1\n",
    "pos = np.array([x,y,z])\n",
    "eOff = np.array([0,5.25,0])"
   ]
  },
  {
   "cell_type": "code",
   "execution_count": 44,
   "metadata": {},
   "outputs": [],
   "source": [
    "R * eOff"
   ]
  },
  {
   "cell_type": "code",
   "execution_count": null,
   "metadata": {},
   "outputs": [],
   "source": [
    "\n",
    "npos = pos - R@eOff\n",
    "xc = npos(1)\n",
    "yc = npos(2)\n",
    "zc = npos(3)\n",
    "L1 = 22.08\n",
    "d = 0\n",
    "L2 = 25\n",
    "L3 = 28"
   ]
  },
  {
   "cell_type": "code",
   "execution_count": null,
   "metadata": {},
   "outputs": [],
   "source": [
    "IK.findJA([x,y,z],R)"
   ]
  },
  {
   "cell_type": "code",
   "execution_count": null,
   "metadata": {},
   "outputs": [],
   "source": []
  }
 ],
 "metadata": {
  "kernelspec": {
   "display_name": "Python 3",
   "language": "python",
   "name": "python3"
  },
  "language_info": {
   "codemirror_mode": {
    "name": "ipython",
    "version": 3
   },
   "file_extension": ".py",
   "mimetype": "text/x-python",
   "name": "python",
   "nbconvert_exporter": "python",
   "pygments_lexer": "ipython3",
   "version": "3.7.6"
  }
 },
 "nbformat": 4,
 "nbformat_minor": 2
}
