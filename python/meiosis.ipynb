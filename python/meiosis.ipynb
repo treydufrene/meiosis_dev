{
 "cells": [
  {
   "cell_type": "markdown",
   "metadata": {},
   "source": [
    "### Development Notebook for MEIOSIS Project"
   ]
  },
  {
   "cell_type": "code",
   "execution_count": 14,
   "metadata": {},
   "outputs": [],
   "source": [
    "import numpy as np\n",
    "from math import *"
   ]
  },
  {
   "cell_type": "code",
   "execution_count": 2,
   "metadata": {},
   "outputs": [],
   "source": [
    "class IK:\n",
    "    def __init__(self):\n",
    "        #do stuff\n",
    "        self.nothing = 0    \n",
    "\n",
    "    def findJA(pos, R):\n",
    "        print(pos)\n",
    "        print(R)"
   ]
  },
  {
   "cell_type": "code",
   "execution_count": 3,
   "metadata": {},
   "outputs": [],
   "source": [
    "R = np.array([[1,0,0],[0,1,0],[0,0,1]])\n",
    "x = 20\n",
    "y = 20\n",
    "z = 1\n",
    "pos = np.array([x,y,z])\n",
    "eOff = np.array([0,5.25,0])"
   ]
  },
  {
   "cell_type": "code",
   "execution_count": 4,
   "metadata": {},
   "outputs": [
    {
     "data": {
      "text/plain": [
       "array([[0.  , 0.  , 0.  ],\n",
       "       [0.  , 5.25, 0.  ],\n",
       "       [0.  , 0.  , 0.  ]])"
      ]
     },
     "execution_count": 4,
     "metadata": {},
     "output_type": "execute_result"
    }
   ],
   "source": [
    "R * eOff"
   ]
  },
  {
   "cell_type": "code",
   "execution_count": 5,
   "metadata": {},
   "outputs": [
    {
     "data": {
      "text/plain": [
       "array([0.  , 5.25, 0.  ])"
      ]
     },
     "execution_count": 5,
     "metadata": {},
     "output_type": "execute_result"
    }
   ],
   "source": [
    "R@eOff"
   ]
  },
  {
   "cell_type": "code",
   "execution_count": 11,
   "metadata": {},
   "outputs": [
    {
     "data": {
      "text/plain": [
       "20.0"
      ]
     },
     "execution_count": 11,
     "metadata": {},
     "output_type": "execute_result"
    }
   ],
   "source": [
    "npos = pos - R@eOff\n",
    "npos[0]"
   ]
  },
  {
   "cell_type": "code",
   "execution_count": 12,
   "metadata": {},
   "outputs": [],
   "source": [
    "xc = npos[0]\n",
    "yc = npos[1]\n",
    "zc = npos[2]\n",
    "L1 = 22.08\n",
    "d = 0\n",
    "L2 = 25\n",
    "L3 = 28"
   ]
  },
  {
   "cell_type": "code",
   "execution_count": 16,
   "metadata": {},
   "outputs": [],
   "source": [
    "t1 = atan2(yc,xc) - atan2(d,sqrt(xc**2 + yc**2 -d**2)) - pi/2;\n",
    "D = (xc**2 + yc**2 - d**2 + (zc - L1)**2 - L2**2 - L3**2)/(2*L2*L3);\n",
    "t3 = atan2(-sqrt(1-D**2),D);\n",
    "t2 = atan2(zc - L1,sqrt(xc**2 + yc**2 - d**2)) - atan2(L3*sin(t3),L2 + L3*cos(t3));"
   ]
  },
  {
   "cell_type": "code",
   "execution_count": null,
   "metadata": {},
   "outputs": [],
   "source": [
    "T3 = rotz(t1)*rotx(t2)*rotx(t3);\n",
    "T = T3.'*R;\n",
    "t6 = atan2(T(2,1),-T(2,3));\n",
    "t4 = atan2(T(1,2),T(3,2));\n",
    "\n",
    "if sin(t4) == 0\n",
    "t5 = atan2(T(3,2)/cos(t4),T(2,2));\n",
    "else\n",
    "t5 = atan2(T(1,2)/sin(t4),T(2,2));\n",
    "end\n",
    "\n",
    "gamma = [t1,t2,t3,t4,t5,t6].';\n",
    "error = 0;"
   ]
  },
  {
   "cell_type": "code",
   "execution_count": null,
   "metadata": {},
   "outputs": [],
   "source": [
    "IK.findJA([x,y,z],R)"
   ]
  }
 ],
 "metadata": {
  "kernelspec": {
   "display_name": "Python 3",
   "language": "python",
   "name": "python3"
  },
  "language_info": {
   "codemirror_mode": {
    "name": "ipython",
    "version": 3
   },
   "file_extension": ".py",
   "mimetype": "text/x-python",
   "name": "python",
   "nbconvert_exporter": "python",
   "pygments_lexer": "ipython3",
   "version": "3.7.6"
  }
 },
 "nbformat": 4,
 "nbformat_minor": 2
}
